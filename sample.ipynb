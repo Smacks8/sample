{
  "nbformat": 4,
  "nbformat_minor": 0,
  "metadata": {
    "colab": {
      "name": "sample.ipynb",
      "provenance": [],
      "authorship_tag": "ABX9TyNWE3dQmAS8umIBXZjp6y3T",
      "include_colab_link": true
    },
    "kernelspec": {
      "name": "python3",
      "display_name": "Python 3"
    },
    "language_info": {
      "name": "python"
    }
  },
  "cells": [
    {
      "cell_type": "markdown",
      "metadata": {
        "id": "view-in-github",
        "colab_type": "text"
      },
      "source": [
        "<a href=\"https://colab.research.google.com/github/Smacks8/sample/blob/main/sample.ipynb\" target=\"_parent\"><img src=\"https://colab.research.google.com/assets/colab-badge.svg\" alt=\"Open In Colab\"/></a>"
      ]
    },
    {
      "cell_type": "code",
      "execution_count": null,
      "metadata": {
        "colab": {
          "base_uri": "https://localhost:8080/"
        },
        "id": "9dXgBBgSkM9z",
        "outputId": "df94d3ed-5306-4eee-8f07-219dcbe05a66"
      },
      "outputs": [
        {
          "output_type": "stream",
          "name": "stdout",
          "text": [
            "2.8284271247461903\n"
          ]
        }
      ],
      "source": [
        "import numpy as np\n",
        "a=8\n",
        "b=np.sqrt(a\n",
        "          )\n",
        "print(b)"
      ]
    },
    {
      "cell_type": "code",
      "source": [
        "3<2 and 4<5"
      ],
      "metadata": {
        "colab": {
          "base_uri": "https://localhost:8080/"
        },
        "id": "ZtidEZBosxjc",
        "outputId": "522f8265-8c71-4670-a530-7eb772142067"
      },
      "execution_count": null,
      "outputs": [
        {
          "output_type": "execute_result",
          "data": {
            "text/plain": [
              "False"
            ]
          },
          "metadata": {},
          "execution_count": 1
        }
      ]
    }
  ]
}